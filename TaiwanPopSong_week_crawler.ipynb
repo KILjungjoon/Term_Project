{
  "nbformat": 4,
  "nbformat_minor": 0,
  "metadata": {
    "colab": {
      "provenance": [],
      "mount_file_id": "1_-6IwLhiXDnUtIEyo-8bppaZJWbOd7Lo",
      "authorship_tag": "ABX9TyOEuZQ1ddkTqC7iEs4PKFde",
      "include_colab_link": true
    },
    "kernelspec": {
      "name": "python3",
      "display_name": "Python 3"
    },
    "language_info": {
      "name": "python"
    }
  },
  "cells": [
    {
      "cell_type": "markdown",
      "metadata": {
        "id": "view-in-github",
        "colab_type": "text"
      },
      "source": [
        "<a href=\"https://colab.research.google.com/github/KILjungjoon/Term_Project/blob/main/TaiwanPopSong_week_crawler.ipynb\" target=\"_parent\"><img src=\"https://colab.research.google.com/assets/colab-badge.svg\" alt=\"Open In Colab\"/></a>"
      ]
    },
    {
      "cell_type": "code",
      "source": [
        "from google.colab import drive\n",
        "drive.mount('/content/drive')"
      ],
      "metadata": {
        "id": "M8bmqSPJil0E"
      },
      "execution_count": null,
      "outputs": []
    },
    {
      "cell_type": "code",
      "source": [
        "!pip install BeautifulSoup4"
      ],
      "metadata": {
        "colab": {
          "base_uri": "https://localhost:8080/"
        },
        "id": "dWyBtwEml92V",
        "outputId": "6b8e2719-7a3f-43b9-ac2b-cee95368846f"
      },
      "execution_count": 12,
      "outputs": [
        {
          "output_type": "stream",
          "name": "stdout",
          "text": [
            "Looking in indexes: https://pypi.org/simple, https://us-python.pkg.dev/colab-wheels/public/simple/\n",
            "Requirement already satisfied: BeautifulSoup4 in /usr/local/lib/python3.8/dist-packages (4.6.3)\n"
          ]
        }
      ]
    },
    {
      "cell_type": "code",
      "source": [
        "# 팬더믹기간 일요일 리스트 생성\n",
        "import pandas as pd\n",
        "\n",
        "def allsundays(year):\n",
        "    return pd.date_range(start=str(year), end=str(year+1), \n",
        "                         freq='W-SUN').strftime('%Y-%m-%d').tolist()\n",
        "date2020=allsundays(2020)\n",
        "date2021=allsundays(2021)\n",
        "date2022=allsundays(2022)[:43]\n",
        "datelist=date2020+date2021+date2022\n",
        "datelist"
      ],
      "metadata": {
        "colab": {
          "base_uri": "https://localhost:8080/"
        },
        "id": "p_h4bWbGtIy6",
        "outputId": "5544b812-3594-40bc-fed2-be280f5bc6e9"
      },
      "execution_count": 14,
      "outputs": [
        {
          "output_type": "execute_result",
          "data": {
            "text/plain": [
              "['2020-01-05',\n",
              " '2020-01-12',\n",
              " '2020-01-19',\n",
              " '2020-01-26',\n",
              " '2020-02-02',\n",
              " '2020-02-09',\n",
              " '2020-02-16',\n",
              " '2020-02-23',\n",
              " '2020-03-01',\n",
              " '2020-03-08',\n",
              " '2020-03-15',\n",
              " '2020-03-22',\n",
              " '2020-03-29',\n",
              " '2020-04-05',\n",
              " '2020-04-12',\n",
              " '2020-04-19',\n",
              " '2020-04-26',\n",
              " '2020-05-03',\n",
              " '2020-05-10',\n",
              " '2020-05-17',\n",
              " '2020-05-24',\n",
              " '2020-05-31',\n",
              " '2020-06-07',\n",
              " '2020-06-14',\n",
              " '2020-06-21',\n",
              " '2020-06-28',\n",
              " '2020-07-05',\n",
              " '2020-07-12',\n",
              " '2020-07-19',\n",
              " '2020-07-26',\n",
              " '2020-08-02',\n",
              " '2020-08-09',\n",
              " '2020-08-16',\n",
              " '2020-08-23',\n",
              " '2020-08-30',\n",
              " '2020-09-06',\n",
              " '2020-09-13',\n",
              " '2020-09-20',\n",
              " '2020-09-27',\n",
              " '2020-10-04',\n",
              " '2020-10-11',\n",
              " '2020-10-18',\n",
              " '2020-10-25',\n",
              " '2020-11-01',\n",
              " '2020-11-08',\n",
              " '2020-11-15',\n",
              " '2020-11-22',\n",
              " '2020-11-29',\n",
              " '2020-12-06',\n",
              " '2020-12-13',\n",
              " '2020-12-20',\n",
              " '2020-12-27',\n",
              " '2021-01-03',\n",
              " '2021-01-10',\n",
              " '2021-01-17',\n",
              " '2021-01-24',\n",
              " '2021-01-31',\n",
              " '2021-02-07',\n",
              " '2021-02-14',\n",
              " '2021-02-21',\n",
              " '2021-02-28',\n",
              " '2021-03-07',\n",
              " '2021-03-14',\n",
              " '2021-03-21',\n",
              " '2021-03-28',\n",
              " '2021-04-04',\n",
              " '2021-04-11',\n",
              " '2021-04-18',\n",
              " '2021-04-25',\n",
              " '2021-05-02',\n",
              " '2021-05-09',\n",
              " '2021-05-16',\n",
              " '2021-05-23',\n",
              " '2021-05-30',\n",
              " '2021-06-06',\n",
              " '2021-06-13',\n",
              " '2021-06-20',\n",
              " '2021-06-27',\n",
              " '2021-07-04',\n",
              " '2021-07-11',\n",
              " '2021-07-18',\n",
              " '2021-07-25',\n",
              " '2021-08-01',\n",
              " '2021-08-08',\n",
              " '2021-08-15',\n",
              " '2021-08-22',\n",
              " '2021-08-29',\n",
              " '2021-09-05',\n",
              " '2021-09-12',\n",
              " '2021-09-19',\n",
              " '2021-09-26',\n",
              " '2021-10-03',\n",
              " '2021-10-10',\n",
              " '2021-10-17',\n",
              " '2021-10-24',\n",
              " '2021-10-31',\n",
              " '2021-11-07',\n",
              " '2021-11-14',\n",
              " '2021-11-21',\n",
              " '2021-11-28',\n",
              " '2021-12-05',\n",
              " '2021-12-12',\n",
              " '2021-12-19',\n",
              " '2021-12-26',\n",
              " '2022-01-02',\n",
              " '2022-01-09',\n",
              " '2022-01-16',\n",
              " '2022-01-23',\n",
              " '2022-01-30',\n",
              " '2022-02-06',\n",
              " '2022-02-13',\n",
              " '2022-02-20',\n",
              " '2022-02-27',\n",
              " '2022-03-06',\n",
              " '2022-03-13',\n",
              " '2022-03-20',\n",
              " '2022-03-27',\n",
              " '2022-04-03',\n",
              " '2022-04-10',\n",
              " '2022-04-17',\n",
              " '2022-04-24',\n",
              " '2022-05-01',\n",
              " '2022-05-08',\n",
              " '2022-05-15',\n",
              " '2022-05-22',\n",
              " '2022-05-29',\n",
              " '2022-06-05',\n",
              " '2022-06-12',\n",
              " '2022-06-19',\n",
              " '2022-06-26',\n",
              " '2022-07-03',\n",
              " '2022-07-10',\n",
              " '2022-07-17',\n",
              " '2022-07-24',\n",
              " '2022-07-31',\n",
              " '2022-08-07',\n",
              " '2022-08-14',\n",
              " '2022-08-21',\n",
              " '2022-08-28',\n",
              " '2022-09-04',\n",
              " '2022-09-11',\n",
              " '2022-09-18',\n",
              " '2022-09-25',\n",
              " '2022-10-02',\n",
              " '2022-10-09',\n",
              " '2022-10-16',\n",
              " '2022-10-23']"
            ]
          },
          "metadata": {},
          "execution_count": 14
        }
      ]
    },
    {
      "cell_type": "code",
      "execution_count": null,
      "metadata": {
        "id": "mBKnkWWyw_Gk"
      },
      "outputs": [],
      "source": [
        "# https://ithelp.ithome.com.tw/articles/10273793\n",
        "import json\n",
        "from bs4 import BeautifulSoup \n",
        "import requests \n",
        "# KKBOX華語新歌日榜\n",
        "\n",
        "df=pd.DataFrame()\n",
        "\n",
        "Date=[]\n",
        "Rank=[]\n",
        "Song=[]\n",
        "Singer=[]\n",
        "Lyrics=[]\n",
        "for day in datelist :\n",
        "  url = 'https://kma.kkbox.com/charts/api/v1/daily?category=297&date='+str(day)+'&lang=tc&limit=50&terr=tw&type=song'\n",
        "  # 取得歌曲資訊json檔\n",
        "  response = requests.get(url)\n",
        "  # 將json字串轉為Python的字典型態\n",
        "  data = json.loads(response.text)\n",
        "  song_list = data[\"data\"][\"charts\"][\"song\"]\n",
        "  # 取得每首歌的排名、曲名、連結、作者、時間\n",
        "  for song in song_list:\n",
        "      song_rank = song[\"rankings\"][\"this_period\"]\n",
        "      song_name = song[\"song_name\"]\n",
        "      song_url = song[\"song_url\"]\n",
        "      song_artist = song[\"artist_name\"]\n",
        "      song_timestamp = int(song[\"release_date\"])\n",
        "      # 從timestamp轉為日期格式\n",
        "      # song_date = time.strftime(\"%Y-%m-%d\", time.localtime(song_timestamp))\n",
        "      Date.append(day)\n",
        "      Rank.append(song_rank)\n",
        "      Song.append(song_name)\n",
        "      Singer.append(song_artist)\n",
        "\n",
        "      try :\n",
        "        song_response = requests.get(song_url)\n",
        "        soup = BeautifulSoup(song_response.text, \"html.parser\")\n",
        "        lyric = soup.find(\"div\", class_=\"lyrics\").text\n",
        "      except :\n",
        "        lyric = \"\"\n",
        "      Lyrics.append(lyric)\n",
        "\n",
        "df['date']=Date\n",
        "df['rank']=Rank\n",
        "df['song']=Song\n",
        "df['singer']=Singer\n",
        "df['lyrics']=Lyrics\n",
        "\n",
        "df.to_excel(\"/content/drive/MyDrive/A Comparative Study on K-pop and T-pop in the Covid-19 Era/final-term/tpop_pandemic.xlsx\", index=False)"
      ]
    },
    {
      "cell_type": "markdown",
      "source": [
        "---\n",
        "---"
      ],
      "metadata": {
        "id": "qwP33oxhi2g2"
      }
    },
    {
      "cell_type": "code",
      "source": [
        "# seed code\n",
        "import csv\n",
        "\n",
        "with open('/content/t-popsongs.csv', 'w', newline='', encoding=\"big5\") as csvfile:\n",
        "    # 建立 CSV 檔寫入器\n",
        "    writer = csv.writer(csvfile)\n",
        "    # 寫入一列資料\n",
        "    writer.writerow([\"date\", \"rank\", \"song\", \"singer\"])\n",
        "    \n",
        "    ...\n",
        "    \n",
        "    writer.writerow([song_date,song_rank, song_name, song_artist])"
      ],
      "metadata": {
        "id": "AG6q-G8LBmQI"
      },
      "execution_count": null,
      "outputs": []
    },
    {
      "cell_type": "code",
      "source": [
        "from datetime import date, timedelta\n",
        "\n",
        "def allsundays(year):\n",
        "   d = date(year, 1, 1)                    # January 1st\n",
        "   d += timedelta(days = 6 - d.weekday())  # First Sunday\n",
        "   while d.year == year:\n",
        "      yield d\n",
        "      d += timedelta(days = 7)\n",
        "sun2020=[]\n",
        "for d in allsundays(2020):\n",
        "   sun2020.append(d)\n",
        "len(sun2020)"
      ],
      "metadata": {
        "colab": {
          "base_uri": "https://localhost:8080/"
        },
        "id": "J0gZVHWws2Zp",
        "outputId": "6cfd54aa-0bbf-4f26-a4ea-c6ef8aaed1ee"
      },
      "execution_count": 4,
      "outputs": [
        {
          "output_type": "execute_result",
          "data": {
            "text/plain": [
              "52"
            ]
          },
          "metadata": {},
          "execution_count": 4
        }
      ]
    }
  ]
}